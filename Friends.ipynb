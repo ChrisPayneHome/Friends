{
 "cells": [
  {
   "cell_type": "markdown",
   "id": "884688d4",
   "metadata": {},
   "source": [
    "# Synthetic Friends Script\n",
    "\n",
    "This notebook will build a model to generate a scene from the TV show 'Friends' using an NLP model. \n",
    "\n",
    "This project will include the following steps:\n",
    "\n",
    "* Import and prepare the data\n",
    "* Create the model\n",
    "* Train the model\n",
    "* Generate the synthetic scene\n",
    "\n",
    "\n",
    "## Import required libraries and data\n",
    "\n",
    "First we'll need to import the libraries we'll need as well as our data.\n",
    "\n",
    "The data used in this project is the friends.csv file from a 2020 edition of tidy tuesday that can be found <a href=\"https://github.com/rfordatascience/tidytuesday/tree/master/data/2020/2020-09-08\">here</a>."
   ]
  },
  {
   "cell_type": "code",
   "execution_count": 109,
   "id": "3a68424b",
   "metadata": {},
   "outputs": [],
   "source": [
    "import pandas as pd\n",
    "import numpy as np\n",
    "import csv\n",
    "import random\n",
    "import string\n",
    "import json\n",
    "from keras.preprocessing.text import Tokenizer\n",
    "from keras.preprocessing.sequence import pad_sequences\n",
    "from tensorflow.keras.utils import to_categorical\n",
    "from keras.layers import Embedding, LSTM, Dense, Dropout\n",
    "from keras.models import Sequential, load_model"
   ]
  },
  {
   "cell_type": "code",
   "execution_count": 42,
   "id": "c84491e8",
   "metadata": {
    "scrolled": true
   },
   "outputs": [
    {
     "data": {
      "text/html": [
       "<div>\n",
       "<style scoped>\n",
       "    .dataframe tbody tr th:only-of-type {\n",
       "        vertical-align: middle;\n",
       "    }\n",
       "\n",
       "    .dataframe tbody tr th {\n",
       "        vertical-align: top;\n",
       "    }\n",
       "\n",
       "    .dataframe thead th {\n",
       "        text-align: right;\n",
       "    }\n",
       "</style>\n",
       "<table border=\"1\" class=\"dataframe\">\n",
       "  <thead>\n",
       "    <tr style=\"text-align: right;\">\n",
       "      <th></th>\n",
       "      <th>text</th>\n",
       "      <th>speaker</th>\n",
       "      <th>scene</th>\n",
       "    </tr>\n",
       "  </thead>\n",
       "  <tbody>\n",
       "    <tr>\n",
       "      <th>0</th>\n",
       "      <td>[Scene: Monica and Rachel's, everyone is eatin...</td>\n",
       "      <td>Scene Directions</td>\n",
       "      <td>1</td>\n",
       "    </tr>\n",
       "    <tr>\n",
       "      <th>1</th>\n",
       "      <td>Oh hey, you guys, look! Ugly Naked Guy is putt...</td>\n",
       "      <td>Phoebe Buffay</td>\n",
       "      <td>1</td>\n",
       "    </tr>\n",
       "    <tr>\n",
       "      <th>2</th>\n",
       "      <td>(They all run and join her at the window.)</td>\n",
       "      <td>Scene Directions</td>\n",
       "      <td>1</td>\n",
       "    </tr>\n",
       "    <tr>\n",
       "      <th>3</th>\n",
       "      <td>I'd say from the looks of it; our naked buddy ...</td>\n",
       "      <td>Rachel Green</td>\n",
       "      <td>1</td>\n",
       "    </tr>\n",
       "    <tr>\n",
       "      <th>4</th>\n",
       "      <td>Ironically, most of the boxes seem to be label...</td>\n",
       "      <td>Ross Geller</td>\n",
       "      <td>1</td>\n",
       "    </tr>\n",
       "  </tbody>\n",
       "</table>\n",
       "</div>"
      ],
      "text/plain": [
       "                                                text           speaker  scene\n",
       "0  [Scene: Monica and Rachel's, everyone is eatin...  Scene Directions      1\n",
       "1  Oh hey, you guys, look! Ugly Naked Guy is putt...     Phoebe Buffay      1\n",
       "2         (They all run and join her at the window.)  Scene Directions      1\n",
       "3  I'd say from the looks of it; our naked buddy ...      Rachel Green      1\n",
       "4  Ironically, most of the boxes seem to be label...       Ross Geller      1"
      ]
     },
     "execution_count": 42,
     "metadata": {},
     "output_type": "execute_result"
    }
   ],
   "source": [
    "random.seed(2021)\n",
    "\n",
    "#episode_names = json.loads('episode_names.json').read()\n",
    "\n",
    "data = pd.read_csv('Data/corpus_data.csv').dropna()\n",
    "data = data.loc[:, ['text', 'speaker', 'scene']]\n",
    "\n",
    "data.head()\n"
   ]
  },
  {
   "cell_type": "markdown",
   "id": "053fd0a8",
   "metadata": {},
   "source": [
    "## Prepare the data\n",
    "\n",
    "With the data loaded, I can now create the data we'll use to train the model. This will mean converting the data into a selection of lines, organised by scene. Once we've generated this data, we'll then visualise the first 10 scenes."
   ]
  },
  {
   "cell_type": "code",
   "execution_count": 44,
   "id": "0c9805ab",
   "metadata": {},
   "outputs": [
    {
     "data": {
      "text/plain": [
       "[\"Scene Directions: [Scene: Monica and Rachel's, everyone is eating some Chinese food.] Phoebe Buffay: Oh hey, you guys, look! Ugly Naked Guy is putting stuff in boxes! Scene Directions: (They all run and join her at the window.) Rachel Green: I'd say from the looks of it; our naked buddy is moving. Ross Geller: Ironically, most of the boxes seem to be labeled clothes. Rachel Green: Ohh, I'm gonna miss that big old squishy butt. Chandler Bing: And we're done with the chicken fried rice. Ross Geller: Hey! Hey! If he's moving, maybe I should try to get his place! #ALL#: Good idea! Yes! Ross Geller: It would be so cool to live across from you guys! Joey Tribbiani: Hey, yeah! Then we could do that telephone thing! Y'know, you have a can, we have a can and it's connected by a string! Chandler Bing: Or we can do the actual telephone thing. \",\n",
       " \"Scene Directions: [Scene: Ugly Naked Guy's apartment, Ross, Rachel, and Phoebe are checking out the place. Luckily, Ugly Naked Guy is nowhere to be seen.] Ross Geller: Oh my God! I love this apartment! Isn't it perfect?! I can't believe I never realized how great it is! Rachel Green: Well that is because your eye immediately goes to the big naked man. Phoebe Buffay: It's amazing! You better hurry up and fill out an application or I'm gonna beat you to it. Ross Geller: Ohh. Rachel Green: Well, I never thought I'd say this, but I'm gonna go use Ugly Naked Guy's bathroom. Phoebe Buffay: Oh, look! There's Monica and Chandler! Hey! Hey, you guys! Hey! Ohh!! Ohh! Ahh-ahhh!! Rachel Green: What?! Phoebe Buffay: Ahhh!! Chandler and Monica!! Chandler and Monica!! Rachel Green: Oh my God! Phoebe Buffay: CHANDLER AND MONICA!!!! Rachel Green: OH MY GOD!!! Phoebe Buffay: OH!! MY EYES!!! MY EYES!!!! Rachel Green: Phoebe!! Phoebe!! It's okay!! It's okay!! Phoebe Buffay: NO! THEY'RE DOING IT!!! Rachel Green: I KNOW!! I KNOW!! I KNOW! Phoebe Buffay: YOU KNOW?!!! Rachel Green: Yes, I know! And Joey knows! But Ross doesn't know so you have to stop screaming!! Ross Geller: What's going on? Rachel Green: HI!! Hi! Ross Geller: What?! What?! Rachel Green: Nothing! Oh God, we're just so excited that you want to get this apartment! Ross Geller: Actually, it looks really good. Phoebe Buffay: Get in here!!! Scene Directions: (Ross starts jumping and screaming incoherently and hops over and joins in on the group hug.) \",\n",
       " \"Scene Directions: [Scene: Central Perk, Phoebe and Rachel are there talking about Chandler and Monica.] Phoebe Buffay: You mean whenever Monica and Chandler where like y'know doing laundry or going grocery shopping or-Oh! All that time Monica spent on the phone with sad Linda from camp! Rachel Green: Uh-huh, doing it. Doing it. Phone doing it. Phoebe Buffay: Oh! Oh, I can't believe it! I mean I think it's great! For him. She might be able to do better. Joey Tribbiani: Hey guys! Rachel Green: Joey! Come here! Come here! Joey Tribbiani: What? What? Rachel Green: Phoebe just found out about Monica and Chandler. Joey Tribbiani: You mean how they're friends and nothing more? Rachel Green: No. Joey, she knows! We were at Ugly Naked Guy's apartment and we saw them doing it through the window. Actually, we saw them doing it up against the window. Phoebe Buffay: Okay, so now they know that you know and they don't know that Rachel knows? Joey Tribbiani: Yes, but y'know what? It doesn't matter who knows what. Now, enough of us know that we can just tell them that we know! Then all the lying and the secrets would finally be over! Phoebe Buffay: Or, we could not tell them we know and have a little fun of our own. Rachel Green: Wh-what do you mean? Phoebe Buffay: Well y'know every time that they say that like they're doing laundry we'll just give them a bunch of laundry to do. Rachel Green: Ohhh, I-I would enjoy that! Joey Tribbiani: No-no-no! No-no wait Rach, you know what would even be more fun? Telling them. Rachel Green: Ehhh, no, I wanna do Phoebe's thing. Joey Tribbiani: I can't take any... Phoebe Buffay: No! You don't have to do anything! Just don't tell them that we know! Joey Tribbiani: Noo! I can't take any more secrets! I've got your secrets. I've got their secrets. I got secrets of my own y'know! Rachel Green: You don't have any secrets! Joey Tribbiani: Oh yeah? Well, you don't know about Hugsy, my bedtime penguin pal. Rachel Green: So umm, how-how are we gonna mess with them? Joey Tribbiani: Ugh. Phoebe Buffay: Well, you could use your position y'know as the roommate. Rachel Green: Okay. Phoebe Buffay: And then. I would use y'know the strongest tool at my disposal. My sexuality. Chandler Bing: Hello children! #ALL#: Hey! Phoebe Buffay: Okay, watch, learn, and don't eat my cookie. Scene Directions: (She gets up and goes over to Chandler who's ordering some coffee from Gunther.) Chandler Bing: Hey. Phoebe Buffay: Hey! Ooh, wow that jacket looks great on you! Chandler Bing: Really? Phoebe Buffay: Yeah the material feels so soft-hello Mr. Bicep! Have you been working out? Chandler Bing: Well, I try to y'know, squeeze things. Are you okay? Phoebe Buffay: Well, if you really wanna know, I'm-Oh! I can't tell you this. Chandler Bing: Phoebe, it's me. You can tell me anything. Phoebe Buffay: Well actually you're the one person I can't tell this too. And the one person I want to the most. Chandler Bing: What's going on? Phoebe Buffay: I think it's just y'know that I haven't been with a guy in so long and how sometimes you're looking for something and you just don't even see that it's right there in front of you sipping coffee-Oh no, have I said to much? Well it's just something to think about. I know I will. Scene Directions: (She makes a show of bending over to get her coat and showing off her bum. She then walks out, leaving no one to eat her cookie.) \",\n",
       " \"Scene Directions: [Scene: Chandler's bedroom, Chandler and Monica are there, of course. Like who else would it be, duh!] Monica Geller: You are so cute! How did you get to be so cute? Chandler Bing: Well, my Grandfather was Swedish and my Grandmother was actually a tiny little bunny. Monica Geller: Okay, now you're even cuter!! Chandler Bing: Y'know that is a popular opinion today I must say. Monica Geller: What? Chandler Bing: The weirdest thing happened at the coffee house, I think, I think Phoebe was hitting on me. Monica Geller: What are you talking about? Chandler Bing: I'm telling you I think Phoebe thinks I'm foxy. Monica Geller: That's not possible! Chandler Bing: Ow! Monica Geller: I'm sorry it's just, Phoebe just always thought you were, you were charming in a, in a sexless kind of way. Chandler Bing: Oh, y'know I-I can't hear that enough. Monica Geller: I'm sorry, I think that you just misunderstood her. Chandler Bing: No, I didn't misunderstand, okay? She was all over me! She touched my bicep for crying out loud! Monica Geller: This bicep? Chandler Bing: Well it's not flexed right now! \",\n",
       " \"Scene Directions: [Scene: Monica and Rachel's, Monica, Rachel, Phoebe, and Chandler are there. Monica is entering from her room.] Rachel Green: Hey Mon, what are you doing now? Wanna come see a movie with us? Monica Geller: Uhh, y'know actually I was gonna do some laundry. Rachel Green: Oh. Monica Geller: Hey Chandler, wanna do it with me? Chandler Bing: Sure, I'll do it with ya. Monica Geller: Okay. Rachel Green: Okay great, hold on a sec! Oh, here you go! You don't mind do ya? That would really help me out a lot! Thanks! Monica Geller: I mean I-I don't I think I have enough quarters. Phoebe Buffay: I have quarters! Ross Geller: Hey! Rachel Green: Hey Ross! Any word on the apartment yet? Ross Geller: Well, I called over there and it turns out Ugly Naked Guy is subletting it himself and he's already had like a hundred applicants. Rachel Green: Oh. Ross Geller: No-no, I got the edge. I know it's not exactly ethical but I sent him a little bribe to Scene Directions: tip the scales in my direction. Check it out, you can probably see it from the window. (They all head to the window.) Monica Geller: Oh, is it that pinball machine with the big bow on it? Ross Geller: No. Chandler Bing: That new mountain bike? Ross Geller: No. Monica Geller: Well what did you send? Ross Geller: A basket of mini-muffins. Phoebe Buffay: But there's a whole table of mini-muffin baskets. Which one did you send? Ross Geller: The small one. Rachel Green: What?! You-you actually thought that basket was gonna get you the apartment? Ross Geller: Well yeah! Someone sent us a basket at work once and people went crazy over those little muffins. It was the best day. Chandler Bing: Your work makes me sad. Ross Geller: Oh man! I want that place so much!! I was so sure that was gonna work! There's twelve bucks I'll never see again! Rachel Green: All right honey, we'd better go if we wanna catch that movie. Monica Geller: Bye! #ALL#: Bye! Phoebe Buffay: Bye Chandler! I miss you already. Chandler Bing: Okay, did you see that?! With the inappropriate and the pinching!! Monica Geller: Actually, I did! Chandler Bing: Okay, so now do you believe that she's attracted to me? Monica Geller: Ohhh, oh my God! Oh my God! She knows about us! Chandler Bing: Are you serious? Monica Geller: Phoebe knows and she's just trying to freak us out! That's the only explanation for it! Chandler Bing: Okay but what about y'know my pinchable butt and my bulging biceps-She knows! \",\n",
       " \"Scene Directions: [Scene: Chandler, Joey, and Ross's, Joey is snoozing with Hugsy, his bedtime penguin pal and Chandler and Monica come storming in.] Chandler Bing: Joey! Scene Directions: (Joey quickly tries to hide Hugsy by throwing it over his head.) Joey Tribbiani: Yeah? Chandler Bing: Phoebe knows about us! Joey Tribbiani: Well I didn't tell them! Monica Geller: Them?! Who's them? Joey Tribbiani: Uhhh, Phoebe and Joey. Monica Geller: Joey! Joey Tribbiani: And Rachel. I would've told you but they made me promise not to tell! Chandler Bing: Oh man! Joey Tribbiani: I'm sorry! But hey, it's over now, right? Because you can tell them that you know they know and I can go back to knowing absolutely nothing! Monica Geller: Unless... Joey Tribbiani: No! Not unless! Look this must end now! Monica Geller: Oh man, they think they are so slick messing with us! But see they don't know that we know that they know! So... Chandler Bing: Ahh yes, the messers become the messies! \",\n",
       " \"Scene Directions: [Scene: Monica and Rachel's, Ross is looking at Ugly Naked Guy's apartment through binoculars.] Ross Geller: Noooo. Rachel Green: Oh Ross, honey you gotta stop torturing yourself! Phoebe Buffay: Yeah, why don't you just find another apartment? Ross Geller: Look I've already looked at like a thousand apartments this month and none of them even compares to that one! Rachel Green: Y'know what you should do? Ross Geller: Huh? Rachel Green: You should find out what his hobbies are and then use that to bond with him. Yeah! Like if I would strike up a conversation about say umm, sandwiches. Or uh, or my underwear. Joey Tribbiani: I'm listening. Rachel Green: See? Ross Geller: That is a great idea! And! I know Ugly Naked Guy because we've been watching him for like five years so that gives me back my edge! Oh, let's see now he had the trampoline. Phoebe Buffay: He broke that. Ross Geller: Well, he had gravity boots. Rachel Green: Yeah, he broke those too. Joey Tribbiani: So he likes to break stuff. Ross Geller: Okay, I've got to go pick up Ben but I-I will figure something out. Hey, didn't he used to have a cat? Phoebe Buffay: I wouldn't bring that up, it would probably just bum him out. Joey Tribbiani: Yeah, poor cat, never saw that big butt coming. Ross Geller: Right. Scene Directions: (The phone rings and Rachel answers it.) Rachel Green: Hello! Oh yeah! Hey! Hold on a second she's right here! It's Chandler. Phoebe Buffay: Oh? Hello you. Chandler Bing: Hello Phoebe, I've been thinking about you all day. Phoebe Buffay: Eh? Chandler Bing: Well you know that thing you said before, I'd be lying if I said I wasn't intrigued. Phoebe Buffay: Really? Chandler Bing: Yeah, listen, Joey isn't gonna be here tonight so why don't you come over and I'll let you uh, feel my bicep. Or maybe more. Phoebe Buffay: I'll have to get back to you on that. Okay, bye! Oh my God! He wants me to come over and feel his bicep and more! Rachel Green: Are you kidding?! Phoebe Buffay: No! Rachel Green: I can not believe he would do that to Mon-Whoa! Joey, do they know that we know? Joey Tribbiani: No. Rachel Green: Joey! Joey Tribbiani: They know you know. Rachel Green: Ugh, I knew it! Oh I cannot believe those two! Phoebe Buffay: God, they thought they can mess with us! They're trying to mess with us?! They don't know that we know they know we know! Joey, you can't say anything! Joey Tribbiani: I couldn't even if I wanted too. \",\n",
       " \"Scene Directions: [Scene: Outside Ugly Naked Guy's apartment, Ross is knocks on the door and Ugly Naked Guy answers it. He's ugly. He's naked. And he's holding a huge jumbo soda.] Ross Geller: Good evening, sir. My name is Ross Geller. I'm one of the people who applied for the apartment. And I-I realize that the competition is fierce but-I'm sorry. I, I can't help but notice you're naked and I applaud you. Man, I wish I was naked. I mean, this-this looks so great. That is how God intended it. \",\n",
       " 'Scene Directions: [Scene: Monica and Rachel\\'s, Chandler and Monica and Rachel and Phoebe are planning their respective strategies to break the other pairing. Joey is not amused. Scene Directions: Monica: (in the kitchen with Chandler) Look at them, they\\'re-they\\'re panicked! Scene Directions: Chandler: Oh yeah, they\\'re totally gonna back down! Scene Directions: Monica: Oh yeah! Scene Directions: [Cut to Phoebe and Rachel sitting on the couch.] Phoebe Buffay: All right. All right! If he wants a date? He\\'s gonna get a date. All right, I\\'m gonna go in. Rachel Green: All right. Be sexy. Phoebe Buffay: Please. Scene Directions: (She saunters over to Chandler with a mean pair of \\'Come hither\\' eyes and she glares at Monica.) Phoebe Buffay: So Chandler, I-I\\'d love to come by tonight. Chandler Bing: Really? Phoebe Buffay: Oh absolutely. Shall we say, around seven? Chandler Bing: Yes. Phoebe Buffay: Good. I\\'m really looking forward to you and me having sexual intercourse. Scene Directions: (As she walks away, Chandler mouths a scream to Monica. How motions and mouths, \"It\\'s okay, it\\'s okay.\") Joey Tribbiani: Hey-hey, check it out! Check it out! Ugly Naked Guy has a naked friend! Scene Directions: (They all run over to the window.) Rachel Green: Oh yeah! Oh my God! That is our friend! It\\'s Naked Ross! #ALL#: Yeah, it is! Naked Ross!! ',\n",
       " \"Scene Directions: [Scene: Monica and Rachel's, Rachel is getting Phoebe ready for her date.] Rachel Green: Show time! Phoebe Buffay: Okay, Rachel, get me perfume! Rachel Green: Okay! Phoebe Buffay: And Joey, get me a bottle of wine and glasses? Scene Directions: (In the meantime, Rachel has returned with the perfume and sprays a mist out in front of Phoebe who walks through the mist and does a little spin.) Scene Directions: [Cut to Chandler, Joey, and Ross's, Monica is getting Chandler ready for his half of the plan.] Monica Geller: All right, it'll be great! You just make her think you wanna have sex with her! It'll totally freak her out! Chandler Bing: Okay, listen, how far am I gonna have to go with her? Monica Geller: Relax, she-she's gonna give in way before you do! Chandler Bing: How do you know?! Monica Geller: Because you're on my team! And my team always wins! Chandler Bing: At this?! Monica Geller: Just go get some! Go! Scene Directions: [Cut to the hallway, Phoebe is outside getting some last minute instructions from Rachel.] Rachel Green: Okay honey, now I'm gonna try to listen from right here! Phoebe Buffay: Okay. Rachel Green: Okay? Whoa, wait! Phoebe Buffay: Good idea! Rachel Green: Yeah, oh wait! Phoebe Buffay: Oh now, don't give away the farm! Scene Directions: (Phoebe knocks on the door with the wine and Chandler answers it. Rachel hides next to the door.) Chandler Bing: Phoebe. Phoebe Buffay: Chandler. Chandler Bing: Come on in. Phoebe Buffay: I was going too. Umm, I brought some wine. Would you like some? Chandler Bing: Sure. Scene Directions: (She makes a big show out of pulling out the cork and pours the wine.) Phoebe Buffay: So, here we are. Nervous? Chandler Bing: Me? No. You? Phoebe Buffay: No, I want this to happen. Chandler Bing: So do I. Scene Directions: (They click their glasses and take a sip. That sip turns into a gulp, which quickly progresses into their mutual draining of their glasses at once.) Chandler Bing: I'm gonna put on some music. Phoebe Buffay: Maybe, maybe I'll dance for you. Chandler Bing: You look good. Phoebe Buffay: Thanks! Y'know, that when you say things like that it makes me wanna rip that sweater vest right off! Chandler Bing: Well, why don't we move this into the bedroom? Phoebe Buffay: Really? Chandler Bing: Oh, do you not want to? Phoebe Buffay: No. No! It's just y'know first, I wanna take off all my clothes and have you rub lotion on me. Chandler Bing: Well that would be nice. I'll go get the lotion. Scene Directions: [Cut to the bathroom, Chandler is entering.] Chandler Bing: Listen, this is totally getting out of hand! Okay? She wants me to put lotion on her! Monica Geller: She's bluffing! Chandler Bing: Look, she's not backing down! She went like this! Scene Directions: [Cut to the hallway where Phoebe is conferring with Rachel.] Phoebe Buffay: He's not backing down. He went to get lotion. Joey Tribbiani: Oh man! Aren't you guys done yet?! I wanna sit in my chair! Rachel Green: Joey look, just look at it this way, the sooner Phoebe breaks Chandler the sooner this is all over and out in the open. Joey Tribbiani: Ooh! Rachel Green: Okay! Joey Tribbiani: I like that! Oh, okay! Show him your bra! He's afraid of bras! Can't work 'em! Phoebe Buffay: Joey! Wow, you didn't rip off any buttons. Joey Tribbiani: It's not my first time. Scene Directions: [Cut to the bathroom.] Monica Geller: You go back out there and you seduce her till she cracks! Chandler Bing: Okay, give me a second! Did you clean up in here? Monica Geller: Of course. Scene Directions: [Cut back to the living room. Chandler slowly exits the bathroom and gets pushed from behind by Monica and sees Phoebe closing the apartment door.) Chandler Bing: Oh, you're-you're going? Phoebe Buffay: Umm, not without you, lover. So, this is my bra. Chandler Bing: It's very, very nice. Well, come here. I'm very were gonna be having all the sex. Phoebe Buffay: You should be. I'm very bendy. I'm gonna kiss you now. Chandler Bing: Not if I kiss you first. Scene Directions: (They move closer to together and Phoebe hesitantly puts her hand on Chandler's hip. He puts his hand on her left hip but then decides to put his hand on her left hip. Phoebe then grabs his butt. Chandler goes for her breast, but stops and puts his hand on her shoulder.) Phoebe Buffay: Ooh. Chandler Bing: Well, I guess there's nothing left for us to do but-but kiss. Phoebe Buffay: Here it comes. Our first kiss. Scene Directions: (They slowly and hesitantly move their lips together and kiss gently. Phoebe has her eyes wide open in shock and Chandler is squinting. He finally breaks the kiss after only a short while and pushes Phoebe away.) Chandler Bing: Okay! Okay! Okay! You win! You win!! I can't have sex with ya! Phoebe Buffay: And why not?! Chandler Bing: Because I'm in love with Monica!! Phoebe Buffay: You're-you're what?! Scene Directions: (Monica comes out of the bathroom like a bolt, and Rachel and Joey both enter.) Chandler Bing: Love her! That's right, I...LOVE...HER!!! I love her!! I love you, Monica. Monica Geller: I love you too Chandler. Phoebe Buffay: I just-I thought you guys were doing it, I didn't know you were in love! Joey Tribbiani: Dude! Chandler Bing: And hats off to Phoebe. Quite a competitor. And might I say your breasts are still showing. Phoebe Buffay: God! Joey Tribbiani: All right! So that's it! It's over! Everybody knows! Monica Geller: Well actually, Ross doesn't. Chandler Bing: Yes, and we'd appreciate it if no one told him yet. Scene Directions: (Joey suddenly gets very angry.) \"]"
      ]
     },
     "execution_count": 44,
     "metadata": {},
     "output_type": "execute_result"
    }
   ],
   "source": [
    "corpus = []\n",
    "\n",
    "for i in range(0, len(data)):\n",
    "    if i == 0:\n",
    "        scene = data.iloc[i,2]\n",
    "        scene_text = data.iloc[i,1] + \": \" + data.iloc[i,0] + \" \"\n",
    "    else:\n",
    "        if scene == data.iloc[i,2]:\n",
    "            scene_text = scene_text + data.iloc[i,1] + \": \" + data.iloc[i,0] + \" \"\n",
    "        else:\n",
    "            corpus = corpus + [scene_text]\n",
    "            scene = data.iloc[i,2]\n",
    "            scene_text = data.iloc[i,1] + \": \" + data.iloc[i,0] + \" \"\n",
    "            \n",
    "corpus[:10]"
   ]
  },
  {
   "cell_type": "markdown",
   "id": "da1f77f8",
   "metadata": {},
   "source": [
    "We'll also need to clean the data by converting it all to lowercase and removing all punctuation. This will make it easier for the model to process and work with."
   ]
  },
  {
   "cell_type": "code",
   "execution_count": 76,
   "id": "7c897c4a",
   "metadata": {},
   "outputs": [
    {
     "data": {
      "text/plain": [
       "['scene directions scene monica and rachels everyone is eating some chinese food phoebe buffay oh hey you guys look ugly naked guy is putting stuff in boxes scene directions they all run and join her at the window rachel green id say from the looks of it our naked buddy is moving ross geller ironically most of the boxes seem to be labeled clothes rachel green ohh im gonna miss that big old squishy butt chandler bing and were done with the chicken fried rice ross geller hey hey if hes moving maybe i should try to get his place all good idea yes ross geller it would be so cool to live across from you guys joey tribbiani hey yeah then we could do that telephone thing yknow you have a can we have a can and its connected by a string chandler bing or we can do the actual telephone thing ',\n",
       " 'scene directions scene ugly naked guys apartment ross rachel and phoebe are checking out the place luckily ugly naked guy is nowhere to be seen ross geller oh my god i love this apartment isnt it perfect i cant believe i never realized how great it is rachel green well that is because your eye immediately goes to the big naked man phoebe buffay its amazing you better hurry up and fill out an application or im gonna beat you to it ross geller ohh rachel green well i never thought id say this but im gonna go use ugly naked guys bathroom phoebe buffay oh look theres monica and chandler hey hey you guys hey ohh ohh ahhahhh rachel green what phoebe buffay ahhh chandler and monica chandler and monica rachel green oh my god phoebe buffay chandler and monica rachel green oh my god phoebe buffay oh my eyes my eyes rachel green phoebe phoebe its okay its okay phoebe buffay no theyre doing it rachel green i know i know i know phoebe buffay you know rachel green yes i know and joey knows but ross doesnt know so you have to stop screaming ross geller whats going on rachel green hi hi ross geller what what rachel green nothing oh god were just so excited that you want to get this apartment ross geller actually it looks really good phoebe buffay get in here scene directions ross starts jumping and screaming incoherently and hops over and joins in on the group hug ',\n",
       " 'scene directions scene central perk phoebe and rachel are there talking about chandler and monica phoebe buffay you mean whenever monica and chandler where like yknow doing laundry or going grocery shopping oroh all that time monica spent on the phone with sad linda from camp rachel green uhhuh doing it doing it phone doing it phoebe buffay oh oh i cant believe it i mean i think its great for him she might be able to do better joey tribbiani hey guys rachel green joey come here come here joey tribbiani what what rachel green phoebe just found out about monica and chandler joey tribbiani you mean how theyre friends and nothing more rachel green no joey she knows we were at ugly naked guys apartment and we saw them doing it through the window actually we saw them doing it up against the window phoebe buffay okay so now they know that you know and they dont know that rachel knows joey tribbiani yes but yknow what it doesnt matter who knows what now enough of us know that we can just tell them that we know then all the lying and the secrets would finally be over phoebe buffay or we could not tell them we know and have a little fun of our own rachel green whwhat do you mean phoebe buffay well yknow every time that they say that like theyre doing laundry well just give them a bunch of laundry to do rachel green ohhh ii would enjoy that joey tribbiani nonono nono wait rach you know what would even be more fun telling them rachel green ehhh no i wanna do phoebes thing joey tribbiani i cant take any phoebe buffay no you dont have to do anything just dont tell them that we know joey tribbiani noo i cant take any more secrets ive got your secrets ive got their secrets i got secrets of my own yknow rachel green you dont have any secrets joey tribbiani oh yeah well you dont know about hugsy my bedtime penguin pal rachel green so umm howhow are we gonna mess with them joey tribbiani ugh phoebe buffay well you could use your position yknow as the roommate rachel green okay phoebe buffay and then i would use yknow the strongest tool at my disposal my sexuality chandler bing hello children all hey phoebe buffay okay watch learn and dont eat my cookie scene directions she gets up and goes over to chandler whos ordering some coffee from gunther chandler bing hey phoebe buffay hey ooh wow that jacket looks great on you chandler bing really phoebe buffay yeah the material feels so softhello mr bicep have you been working out chandler bing well i try to yknow squeeze things are you okay phoebe buffay well if you really wanna know imoh i cant tell you this chandler bing phoebe its me you can tell me anything phoebe buffay well actually youre the one person i cant tell this too and the one person i want to the most chandler bing whats going on phoebe buffay i think its just yknow that i havent been with a guy in so long and how sometimes youre looking for something and you just dont even see that its right there in front of you sipping coffeeoh no have i said to much well its just something to think about i know i will scene directions she makes a show of bending over to get her coat and showing off her bum she then walks out leaving no one to eat her cookie ',\n",
       " 'scene directions scene chandlers bedroom chandler and monica are there of course like who else would it be duh monica geller you are so cute how did you get to be so cute chandler bing well my grandfather was swedish and my grandmother was actually a tiny little bunny monica geller okay now youre even cuter chandler bing yknow that is a popular opinion today i must say monica geller what chandler bing the weirdest thing happened at the coffee house i think i think phoebe was hitting on me monica geller what are you talking about chandler bing im telling you i think phoebe thinks im foxy monica geller thats not possible chandler bing ow monica geller im sorry its just phoebe just always thought you were you were charming in a in a sexless kind of way chandler bing oh yknow ii cant hear that enough monica geller im sorry i think that you just misunderstood her chandler bing no i didnt misunderstand okay she was all over me she touched my bicep for crying out loud monica geller this bicep chandler bing well its not flexed right now ',\n",
       " 'scene directions scene monica and rachels monica rachel phoebe and chandler are there monica is entering from her room rachel green hey mon what are you doing now wanna come see a movie with us monica geller uhh yknow actually i was gonna do some laundry rachel green oh monica geller hey chandler wanna do it with me chandler bing sure ill do it with ya monica geller okay rachel green okay great hold on a sec oh here you go you dont mind do ya that would really help me out a lot thanks monica geller i mean ii dont i think i have enough quarters phoebe buffay i have quarters ross geller hey rachel green hey ross any word on the apartment yet ross geller well i called over there and it turns out ugly naked guy is subletting it himself and hes already had like a hundred applicants rachel green oh ross geller nono i got the edge i know its not exactly ethical but i sent him a little bribe to scene directions tip the scales in my direction check it out you can probably see it from the window they all head to the window monica geller oh is it that pinball machine with the big bow on it ross geller no chandler bing that new mountain bike ross geller no monica geller well what did you send ross geller a basket of minimuffins phoebe buffay but theres a whole table of minimuffin baskets which one did you send ross geller the small one rachel green what youyou actually thought that basket was gonna get you the apartment ross geller well yeah someone sent us a basket at work once and people went crazy over those little muffins it was the best day chandler bing your work makes me sad ross geller oh man i want that place so much i was so sure that was gonna work theres twelve bucks ill never see again rachel green all right honey wed better go if we wanna catch that movie monica geller bye all bye phoebe buffay bye chandler i miss you already chandler bing okay did you see that with the inappropriate and the pinching monica geller actually i did chandler bing okay so now do you believe that shes attracted to me monica geller ohhh oh my god oh my god she knows about us chandler bing are you serious monica geller phoebe knows and shes just trying to freak us out thats the only explanation for it chandler bing okay but what about yknow my pinchable butt and my bulging bicepsshe knows ',\n",
       " 'scene directions scene chandler joey and rosss joey is snoozing with hugsy his bedtime penguin pal and chandler and monica come storming in chandler bing joey scene directions joey quickly tries to hide hugsy by throwing it over his head joey tribbiani yeah chandler bing phoebe knows about us joey tribbiani well i didnt tell them monica geller them whos them joey tribbiani uhhh phoebe and joey monica geller joey joey tribbiani and rachel i wouldve told you but they made me promise not to tell chandler bing oh man joey tribbiani im sorry but hey its over now right because you can tell them that you know they know and i can go back to knowing absolutely nothing monica geller unless joey tribbiani no not unless look this must end now monica geller oh man they think they are so slick messing with us but see they dont know that we know that they know so chandler bing ahh yes the messers become the messies ',\n",
       " 'scene directions scene monica and rachels ross is looking at ugly naked guys apartment through binoculars ross geller noooo rachel green oh ross honey you gotta stop torturing yourself phoebe buffay yeah why dont you just find another apartment ross geller look ive already looked at like a thousand apartments this month and none of them even compares to that one rachel green yknow what you should do ross geller huh rachel green you should find out what his hobbies are and then use that to bond with him yeah like if i would strike up a conversation about say umm sandwiches or uh or my underwear joey tribbiani im listening rachel green see ross geller that is a great idea and i know ugly naked guy because weve been watching him for like five years so that gives me back my edge oh lets see now he had the trampoline phoebe buffay he broke that ross geller well he had gravity boots rachel green yeah he broke those too joey tribbiani so he likes to break stuff ross geller okay ive got to go pick up ben but ii will figure something out hey didnt he used to have a cat phoebe buffay i wouldnt bring that up it would probably just bum him out joey tribbiani yeah poor cat never saw that big butt coming ross geller right scene directions the phone rings and rachel answers it rachel green hello oh yeah hey hold on a second shes right here its chandler phoebe buffay oh hello you chandler bing hello phoebe ive been thinking about you all day phoebe buffay eh chandler bing well you know that thing you said before id be lying if i said i wasnt intrigued phoebe buffay really chandler bing yeah listen joey isnt gonna be here tonight so why dont you come over and ill let you uh feel my bicep or maybe more phoebe buffay ill have to get back to you on that okay bye oh my god he wants me to come over and feel his bicep and more rachel green are you kidding phoebe buffay no rachel green i can not believe he would do that to monwhoa joey do they know that we know joey tribbiani no rachel green joey joey tribbiani they know you know rachel green ugh i knew it oh i cannot believe those two phoebe buffay god they thought they can mess with us theyre trying to mess with us they dont know that we know they know we know joey you cant say anything joey tribbiani i couldnt even if i wanted too ',\n",
       " 'scene directions scene outside ugly naked guys apartment ross is knocks on the door and ugly naked guy answers it hes ugly hes naked and hes holding a huge jumbo soda ross geller good evening sir my name is ross geller im one of the people who applied for the apartment and ii realize that the competition is fierce butim sorry i i cant help but notice youre naked and i applaud you man i wish i was naked i mean thisthis looks so great that is how god intended it ',\n",
       " 'scene directions scene monica and rachels chandler and monica and rachel and phoebe are planning their respective strategies to break the other pairing joey is not amused scene directions monica in the kitchen with chandler look at them theyretheyre panicked scene directions chandler oh yeah theyre totally gonna back down scene directions monica oh yeah scene directions cut to phoebe and rachel sitting on the couch phoebe buffay all right all right if he wants a date hes gonna get a date all right im gonna go in rachel green all right be sexy phoebe buffay please scene directions she saunters over to chandler with a mean pair of come hither eyes and she glares at monica phoebe buffay so chandler iid love to come by tonight chandler bing really phoebe buffay oh absolutely shall we say around seven chandler bing yes phoebe buffay good im really looking forward to you and me having sexual intercourse scene directions as she walks away chandler mouths a scream to monica how motions and mouths its okay its okay joey tribbiani heyhey check it out check it out ugly naked guy has a naked friend scene directions they all run over to the window rachel green oh yeah oh my god that is our friend its naked ross all yeah it is naked ross ',\n",
       " 'scene directions scene monica and rachels rachel is getting phoebe ready for her date rachel green show time phoebe buffay okay rachel get me perfume rachel green okay phoebe buffay and joey get me a bottle of wine and glasses scene directions in the meantime rachel has returned with the perfume and sprays a mist out in front of phoebe who walks through the mist and does a little spin scene directions cut to chandler joey and rosss monica is getting chandler ready for his half of the plan monica geller all right itll be great you just make her think you wanna have sex with her itll totally freak her out chandler bing okay listen how far am i gonna have to go with her monica geller relax sheshes gonna give in way before you do chandler bing how do you know monica geller because youre on my team and my team always wins chandler bing at this monica geller just go get some go scene directions cut to the hallway phoebe is outside getting some last minute instructions from rachel rachel green okay honey now im gonna try to listen from right here phoebe buffay okay rachel green okay whoa wait phoebe buffay good idea rachel green yeah oh wait phoebe buffay oh now dont give away the farm scene directions phoebe knocks on the door with the wine and chandler answers it rachel hides next to the door chandler bing phoebe phoebe buffay chandler chandler bing come on in phoebe buffay i was going too umm i brought some wine would you like some chandler bing sure scene directions she makes a big show out of pulling out the cork and pours the wine phoebe buffay so here we are nervous chandler bing me no you phoebe buffay no i want this to happen chandler bing so do i scene directions they click their glasses and take a sip that sip turns into a gulp which quickly progresses into their mutual draining of their glasses at once chandler bing im gonna put on some music phoebe buffay maybe maybe ill dance for you chandler bing you look good phoebe buffay thanks yknow that when you say things like that it makes me wanna rip that sweater vest right off chandler bing well why dont we move this into the bedroom phoebe buffay really chandler bing oh do you not want to phoebe buffay no no its just yknow first i wanna take off all my clothes and have you rub lotion on me chandler bing well that would be nice ill go get the lotion scene directions cut to the bathroom chandler is entering chandler bing listen this is totally getting out of hand okay she wants me to put lotion on her monica geller shes bluffing chandler bing look shes not backing down she went like this scene directions cut to the hallway where phoebe is conferring with rachel phoebe buffay hes not backing down he went to get lotion joey tribbiani oh man arent you guys done yet i wanna sit in my chair rachel green joey look just look at it this way the sooner phoebe breaks chandler the sooner this is all over and out in the open joey tribbiani ooh rachel green okay joey tribbiani i like that oh okay show him your bra hes afraid of bras cant work em phoebe buffay joey wow you didnt rip off any buttons joey tribbiani its not my first time scene directions cut to the bathroom monica geller you go back out there and you seduce her till she cracks chandler bing okay give me a second did you clean up in here monica geller of course scene directions cut back to the living room chandler slowly exits the bathroom and gets pushed from behind by monica and sees phoebe closing the apartment door chandler bing oh youreyoure going phoebe buffay umm not without you lover so this is my bra chandler bing its very very nice well come here im very were gonna be having all the sex phoebe buffay you should be im very bendy im gonna kiss you now chandler bing not if i kiss you first scene directions they move closer to together and phoebe hesitantly puts her hand on chandlers hip he puts his hand on her left hip but then decides to put his hand on her left hip phoebe then grabs his butt chandler goes for her breast but stops and puts his hand on her shoulder phoebe buffay ooh chandler bing well i guess theres nothing left for us to do butbut kiss phoebe buffay here it comes our first kiss scene directions they slowly and hesitantly move their lips together and kiss gently phoebe has her eyes wide open in shock and chandler is squinting he finally breaks the kiss after only a short while and pushes phoebe away chandler bing okay okay okay you win you win i cant have sex with ya phoebe buffay and why not chandler bing because im in love with monica phoebe buffay youreyoure what scene directions monica comes out of the bathroom like a bolt and rachel and joey both enter chandler bing love her thats right iloveher i love her i love you monica monica geller i love you too chandler phoebe buffay i justi thought you guys were doing it i didnt know you were in love joey tribbiani dude chandler bing and hats off to phoebe quite a competitor and might i say your breasts are still showing phoebe buffay god joey tribbiani all right so thats it its over everybody knows monica geller well actually ross doesnt chandler bing yes and wed appreciate it if no one told him yet scene directions joey suddenly gets very angry ']"
      ]
     },
     "execution_count": 76,
     "metadata": {},
     "output_type": "execute_result"
    }
   ],
   "source": [
    "def clean_text(txt):\n",
    "    txt = \"\".join(v for v in txt if v not in string.punctuation).lower()\n",
    "    txt = txt.encode(\"utf8\").decode(\"ascii\",'ignore')\n",
    "    return txt \n",
    "\n",
    "corpus = [clean_text(x) for x in corpus]\n",
    "corpus[:10]"
   ]
  },
  {
   "cell_type": "markdown",
   "id": "868cbb65",
   "metadata": {},
   "source": [
    "The final step in preparing the data will be to tokenise this data. This means converting the words within the corpus into a method more readable for machine learning model."
   ]
  },
  {
   "cell_type": "code",
   "execution_count": 77,
   "id": "a4274fe5",
   "metadata": {},
   "outputs": [],
   "source": [
    "tokenizer = Tokenizer()\n",
    "\n",
    "def get_sequence_of_tokens(corpus):\n",
    "    tokenizer.fit_on_texts(corpus)\n",
    "    total_words = len(tokenizer.word_index) + 1\n",
    "    \n",
    "    input_sequences = []\n",
    "    for line in corpus:\n",
    "        token_list = tokenizer.texts_to_sequences([line])[0]\n",
    "        for i in range(1, len(token_list)):\n",
    "            n_gram_sequence = token_list[:i+1]\n",
    "            input_sequences.append(n_gram_sequence)\n",
    "    return input_sequences, total_words\n",
    "\n",
    "inp_sequences, total_words = get_sequence_of_tokens(corpus)"
   ]
  },
  {
   "cell_type": "markdown",
   "id": "11c16f77",
   "metadata": {},
   "source": [
    "Finally we'll have to pad the sequences to make their lengths equal."
   ]
  },
  {
   "cell_type": "code",
   "execution_count": 78,
   "id": "b19c1e42",
   "metadata": {
    "scrolled": true
   },
   "outputs": [],
   "source": [
    "def generate_padded_sequences(input_sequences):\n",
    "    max_sequence_len = max([len(x) for x in input_sequences])\n",
    "    input_sequences = np.array(pad_sequences(input_sequences, maxlen=max_sequence_len, padding='pre'))\n",
    "    \n",
    "    predictors, label = input_sequences[:,:-1],input_sequences[:,-1]\n",
    "    label = to_categorical(label, num_classes=total_words)\n",
    "    return predictors, label, max_sequence_len\n",
    "\n",
    "predictors, label, max_sequence_len = generate_padded_sequences(inp_sequences)"
   ]
  },
  {
   "cell_type": "markdown",
   "id": "f9fd9865",
   "metadata": {},
   "source": [
    "## Prepare the model\n",
    "\n",
    "With this data we can then build and train a model to begin to generate the scenes. The model we'll be using is an LSTM model from the Keras library."
   ]
  },
  {
   "cell_type": "code",
   "execution_count": 79,
   "id": "f0bc7a9a",
   "metadata": {
    "scrolled": false
   },
   "outputs": [
    {
     "name": "stdout",
     "output_type": "stream",
     "text": [
      "Model: \"sequential_3\"\n",
      "_________________________________________________________________\n",
      " Layer (type)                Output Shape              Param #   \n",
      "=================================================================\n",
      " embedding_3 (Embedding)     (None, 1618, 10)          35300     \n",
      "                                                                 \n",
      " lstm_3 (LSTM)               (None, 100)               44400     \n",
      "                                                                 \n",
      " dropout_3 (Dropout)         (None, 100)               0         \n",
      "                                                                 \n",
      " dense_3 (Dense)             (None, 3530)              356530    \n",
      "                                                                 \n",
      "=================================================================\n",
      "Total params: 436,230\n",
      "Trainable params: 436,230\n",
      "Non-trainable params: 0\n",
      "_________________________________________________________________\n"
     ]
    }
   ],
   "source": [
    "def create_model(max_sequence_len, total_words):\n",
    "    input_len = max_sequence_len - 1\n",
    "    model = Sequential()\n",
    "    \n",
    "    model.add(Embedding(total_words, 10, input_length=input_len))\n",
    "    \n",
    "    model.add(LSTM(100))\n",
    "    model.add(Dropout(0.1))\n",
    "    \n",
    "    model.add(Dense(total_words, activation='softmax'))\n",
    "\n",
    "    model.compile(loss='categorical_crossentropy', optimizer='adam')\n",
    "    \n",
    "    return model\n",
    "\n",
    "model = create_model(max_sequence_len, total_words)\n",
    "model.summary()"
   ]
  },
  {
   "cell_type": "markdown",
   "id": "5ec26ae5",
   "metadata": {},
   "source": [
    "Finally, we can fit the model. This will take a long time so don't run this unless you have a day to spare. When we are re-running the notebook, we should simply load the model saved at the end rather than retraining the model by running this cell."
   ]
  },
  {
   "cell_type": "code",
   "execution_count": 89,
   "id": "42106593",
   "metadata": {
    "scrolled": true
   },
   "outputs": [
    {
     "name": "stdout",
     "output_type": "stream",
     "text": [
      "Epoch 1/100\n",
      "WARNING:tensorflow:AutoGraph could not transform <function Model.make_train_function.<locals>.train_function at 0x0000022A49FDFD90> and will run it as-is.\n",
      "Please report this to the TensorFlow team. When filing the bug, set the verbosity to 10 (on Linux, `export AUTOGRAPH_VERBOSITY=10`) and attach the full output.\n",
      "Cause: closure mismatch, requested ('self', 'step_function'), but source function had ()\n",
      "To silence this warning, decorate the function with @tf.autograph.experimental.do_not_convert\n",
      "WARNING: AutoGraph could not transform <function Model.make_train_function.<locals>.train_function at 0x0000022A49FDFD90> and will run it as-is.\n",
      "Please report this to the TensorFlow team. When filing the bug, set the verbosity to 10 (on Linux, `export AUTOGRAPH_VERBOSITY=10`) and attach the full output.\n",
      "Cause: closure mismatch, requested ('self', 'step_function'), but source function had ()\n",
      "To silence this warning, decorate the function with @tf.autograph.experimental.do_not_convert\n",
      "Epoch 2/100\n",
      "Epoch 3/100\n",
      "Epoch 4/100\n",
      "Epoch 5/100\n",
      "Epoch 6/100\n",
      "Epoch 7/100\n",
      "Epoch 8/100\n",
      "Epoch 9/100\n",
      "Epoch 10/100\n",
      "Epoch 11/100\n",
      "Epoch 12/100\n",
      "Epoch 13/100\n",
      "Epoch 14/100\n",
      "Epoch 15/100\n",
      "Epoch 16/100\n",
      "Epoch 17/100\n",
      "Epoch 18/100\n",
      "Epoch 19/100\n",
      "Epoch 20/100\n",
      "Epoch 21/100\n",
      "Epoch 22/100\n",
      "Epoch 23/100\n",
      "Epoch 24/100\n",
      "Epoch 25/100\n",
      "Epoch 26/100\n",
      "Epoch 27/100\n",
      "Epoch 28/100\n",
      "Epoch 29/100\n",
      "Epoch 30/100\n",
      "Epoch 31/100\n",
      "Epoch 32/100\n",
      "Epoch 33/100\n",
      "Epoch 34/100\n",
      "Epoch 35/100\n",
      "Epoch 36/100\n",
      "Epoch 37/100\n",
      "Epoch 38/100\n",
      "Epoch 39/100\n",
      "Epoch 40/100\n",
      "Epoch 41/100\n",
      "Epoch 42/100\n",
      "Epoch 43/100\n",
      "Epoch 44/100\n",
      "Epoch 45/100\n",
      "Epoch 46/100\n",
      "Epoch 47/100\n",
      "Epoch 48/100\n",
      "Epoch 49/100\n",
      "Epoch 50/100\n",
      "Epoch 51/100\n",
      "Epoch 52/100\n",
      "Epoch 53/100\n",
      "Epoch 54/100\n",
      "Epoch 55/100\n",
      "Epoch 56/100\n",
      "Epoch 57/100\n",
      "Epoch 58/100\n",
      "Epoch 59/100\n",
      "Epoch 60/100\n",
      "Epoch 61/100\n",
      "Epoch 62/100\n",
      "Epoch 63/100\n",
      "Epoch 64/100\n",
      "Epoch 65/100\n",
      "Epoch 66/100\n",
      "Epoch 67/100\n",
      "Epoch 68/100\n",
      "Epoch 69/100\n",
      "Epoch 70/100\n",
      "Epoch 71/100\n",
      "Epoch 72/100\n",
      "Epoch 73/100\n",
      "Epoch 74/100\n",
      "Epoch 75/100\n",
      "Epoch 76/100\n",
      "Epoch 77/100\n",
      "Epoch 78/100\n",
      "Epoch 79/100\n",
      "Epoch 80/100\n",
      "Epoch 81/100\n",
      "Epoch 82/100\n",
      "Epoch 83/100\n",
      "Epoch 84/100\n",
      "Epoch 85/100\n",
      "Epoch 86/100\n",
      "Epoch 87/100\n",
      "Epoch 88/100\n",
      "Epoch 89/100\n",
      "Epoch 90/100\n",
      "Epoch 91/100\n",
      "Epoch 92/100\n",
      "Epoch 93/100\n",
      "Epoch 94/100\n",
      "Epoch 95/100\n",
      "Epoch 96/100\n",
      "Epoch 97/100\n",
      "Epoch 98/100\n",
      "Epoch 99/100\n",
      "Epoch 100/100\n"
     ]
    },
    {
     "data": {
      "text/plain": [
       "<keras.callbacks.History at 0x22a4b0ecee0>"
      ]
     },
     "execution_count": 89,
     "metadata": {},
     "output_type": "execute_result"
    }
   ],
   "source": [
    "model.fit(predictors, label, epochs=100, verbose=10)"
   ]
  },
  {
   "cell_type": "markdown",
   "id": "6a3d8ebc",
   "metadata": {},
   "source": [
    "## Generating a scene\n",
    "\n",
    "With the model finally trained we can then begin to set up the function necessary to generate a scene."
   ]
  },
  {
   "cell_type": "code",
   "execution_count": 86,
   "id": "6aba569d",
   "metadata": {},
   "outputs": [],
   "source": [
    "def generate_text(seed_text, next_words, model, max_sequence_len):\n",
    "    for _ in range(next_words):\n",
    "        token_list = tokenizer.texts_to_sequences([seed_text])[0]\n",
    "        token_list = pad_sequences([token_list], maxlen=max_sequence_len-1, padding='pre')\n",
    "        predicted = np.argmax(model.predict(token_list), axis=-1)\n",
    "        \n",
    "        output_word = \"\"\n",
    "        for word,index in tokenizer.word_index.items():\n",
    "            if index == predicted:\n",
    "                output_word = word\n",
    "                break\n",
    "        seed_text += \" \"+output_word\n",
    "    return seed_text.title()"
   ]
  },
  {
   "cell_type": "markdown",
   "id": "aa21901f",
   "metadata": {},
   "source": [
    "To determine how long the scene should be, we'll take a look at the word length of the average scene and use that."
   ]
  },
  {
   "cell_type": "code",
   "execution_count": 99,
   "id": "f29adf97",
   "metadata": {},
   "outputs": [
    {
     "data": {
      "text/plain": [
       "1681.393103448276"
      ]
     },
     "execution_count": 99,
     "metadata": {},
     "output_type": "execute_result"
    }
   ],
   "source": [
    "sum(map(len, corpus))/len(corpus)"
   ]
  },
  {
   "cell_type": "markdown",
   "id": "cc757c92",
   "metadata": {},
   "source": [
    "And finally, we can then generate the scene text with these inputs. For the scene text, we'll use 'Scene Directions' as it is how all the scenes start. It also ensures that we'll see how the model describes the scene it's writing."
   ]
  },
  {
   "cell_type": "code",
   "execution_count": 103,
   "id": "4c77a8d7",
   "metadata": {
    "scrolled": true
   },
   "outputs": [
    {
     "name": "stdout",
     "output_type": "stream",
     "text": [
      "Scene Directions Scene Monica And Chandlers Apartment Chandler Is Been As Chandler Enters Monica And Monica Are Sitting In The Kitchen Table Rachel Green Hey Phoebe Buffay Hey Ross Geller Hi Rachel Green Hi Monica Geller Hi Rachel Green Hi Monica Geller Hi Rachel Green Hi Monica Geller Hi Rachel Green Hi Monica Geller Oh My God Monica Geller Whatwhats The Matter Was Our Late Ross Geller Oh My God Rachel Green Oh My God Rachel Green Oh Yeah But You Have To Do You Were In An Country Monica Geller Thats Right Chandler Bing Oh My God Rachel Green Oh My God Rachel Green Oh Yeah But You Have To Do You After Me Monica Geller Well I Know I Shouldnt Be So Lucky To Mess Monica Geller Ill See You Getting Married Chandler Bing I Cant Believe You Guys Mean We Win We Have To Do It Monica Geller What Will Colbert What Do You Say That Ross Geller Oh Yeah Chandler You Dont Wanna Get Off The Plane Ross Geller I Know It Was Incredible But It Was A Couple Of Years Or Ago They Are A Big More Richard Burke Oh My God Im Sorry Im A One Of Me I Think If You Do I Mean This Was Fair I Mean Ii Can Be Like It Monica Geller Oh My God Rachel Green I Know I Was A Complete Idiot You Wont Bring Him From There Ross Geller Okay Rachel Green Okay Ross Geller Hey Rachel Green Hi Rachel Green Okay Ross Geller Oh My God Rachel Green What Phoebe Buffay Ahhh Joey Tribbiani Oh My God Phoebe Buffay Oh My God Rachel Green Oh Yeah But You Have To Do You After A Little Call Them Phoebe Buffay Do You Dont Have To Do It To Know Ross Geller Yeah Yeah I Mean You Should Have To Go Up And Rachel Green What Joey Tribbiani Yeah You Know What We Have A Bracelet But You Dont Do This Ross Geller Hey Rachel Green What Phoebe Buffay Ahhh Joey Tribbiani Oh My God Joey Tribbiani What Joey Tribbiani Yeah You Know What We Have A Bracelet But You Dont Do This Up Now Yknow Yknow I Thought You Might Know That The Babys Born Would Be At That They Had A Pact Rachel Green Oh My God Im Sorry Im A Twenty Person That Is In The Hardest Philange Air Stewardess Do You Went Into Work On Me And I Think You Guys I Am I Was In Love And I Love Them I Mean If I Mean You Are A Little Night If You Do This Ross Geller Oh My God Rachel Green I Dont Know You Liked Football Phoebe Buffay Yeah Well I Thought You Should Get A Little More In Winter In Life Ross Geller No I Cant Believe You Were Sorry Ross Geller No No No No No No No No No No No No Sure Ive Had A Lot Of Fact That You Said That Is A Little Fun Of Months Phoebe Buffay Oh My God I Cant Believe This Rachel Green Okay Joey Tribbiani I Know I Know I Shouldnt Know What I Mean You Know I Was Any New Name Joey Tribbiani Yeah I Was Never Told Them That Was A Little Pig Club Ross Geller I Know You Know What Youre Almost A Movie Of Years In The Tank One Year Ross Geller Oh My God Rachel Green Yeah I Cant Believe It Rachel Green I Know I Had A Idiot For The Same Time And Tell It To Be A Girl To Have To See It And Then I Was A Woman And You Dont Mean I Mean If You Didnt Mean Do You Bring It Off The Doctor I Mean If You Dont Mean I Was Thinking I Have To Get Rid Of My Life Ya Just Chased The Game And This Is A Twenty Philange Ross Geller I Was Backpacking Across Western Europe Then Phoebe Buffay Okay Oh Oh Oh My God I Cant Believe You Guys I Can I Was In The Gift Shop I Mean Ill Never Be Great Its You Rachel Green Oh My God I Cant Believe You Guys I Love It Ross Geller What Will Colbert What Ross Geller Im Sorry I Dont Know Rossreally Ross Geller Oh My God Rachel Green What You Need To Get This Ross Geller Oh My God I Cant Believe You Guys Mean I Love Your Parents With Me With The Plane Rachel Green Oh My God Phoebe Buffay Unbelievable Joey Tribbiani Hey Phoebe Buffay Oh My God Rachel Green Oh Yeah Ross Geller I Dont Know What Youre Thinking Dave Thomas Founder Of Wendys Gail Im Gail Chandler Bing Well We Have A Little Something Chandler Bing I Dont Know Maybe Churchcamp Monica Geller Thats True But I Saw You Were In An Honest Having Time Joey Tribbiani Yeah Chandler Bing Well You Know What We Do Chandler Bing Well Im Just Being A Deal Time And A Time And I Mean Im Gonna Be Okay Good Time You Dont Know That Is You Know They Dont Know What Do You Know What He Wants Me To Me Monica Geller No No We Talked To Do Monica Geller I Dont Know What Do You Say Me Like It Monica Geller Oh Yeah Well Ive Know That I Was Backpacking Across Western Europe Joey Tribbiani You Know What We Have To Do It Up Chandler Bing Well I Thought You Know What Youre Just Gonna Get Pregnant Monica Geller Oh God Chandler Bing Oh My God Joey Tribbiani What Joey Tribbiani Yeah You Know What We Have To Do This Is Fair Monica Geller Oh My God Joey Tribbiani No No No No No Great No No No No No No No No No No No No No No No No No No No No No No No No No No No No No No No No No No No No No No No No No No No No No No No No No No No No No No No No No No No No No No No No No No No No No No No No No No No No No No No No No No No No No No No No No No No No No No No No No No No No No No No No No No No No No No No No No No No No No No No No No No No No No No No No No No No No No No No No No No No No No No No No No No No No No No No No No No No No No No No No No No No No No No No No No No No No No No No No No No No No No No No No No No No No No No No No No No No No No No No No No No No No No No No No No No No No No No No No No No No No No No No No No No No No No No No No No No No No No No No No No No No No No No No No No No No No No No No No No No No No No No No No No No No No No No No No No No No No No No No No No No No No No No No No No No No No No No No No No No No No No No No No No No No No No No No No No No No No No No No No No No No No No No No No No No No No No No No No No No No No No No No No No No No No No No No No No No No No No No No No No No No No No No No No No No No No No No No No No No No No No No No No No No No No No No No No No No No No No No No No No No No No No No No No No No No No No No No No No No No No No No No No No No No No No No No No No No No No No No No No No No No No No No No No No No No No No No No No No No No No No No No No No No No No No No No No No No No No No No No No No No No No No No No No No No No No No No No No No No No No No No No No No No No No No No No No No No No No No No No No No No No No No No No No No No No No No No No No No No No No No No No No No No No No No No No No No No No No No No No No No No No No No No No No No No No No No No No No No No No No No No No No No No No No No No No No No No No No No No No No No No No No No No No No No No No No No No No No No No No No No No No No No No No No No No No No No No No No No No No No No No No No No No No No No No No No No No No No No No No No No No No No No No No No No No No No No No No No No No No No No No No No No No No No No No No No No No No No No No No No No No No No No No No No No No No\n"
     ]
    }
   ],
   "source": [
    "print(generate_text(\"Scene Directions\", 1681, model, max_sequence_len))"
   ]
  },
  {
   "cell_type": "markdown",
   "id": "8d56c934",
   "metadata": {},
   "source": [
    "## Saving the Model\n",
    "\n",
    "Finally, we'll save the model so that we can share it with others. When running this notebook, we should load thsi pretrained model rather than training another model."
   ]
  },
  {
   "cell_type": "code",
   "execution_count": 107,
   "id": "7e8b523d",
   "metadata": {},
   "outputs": [],
   "source": [
    "model.save('Friends_writer.h5')"
   ]
  }
 ],
 "metadata": {
  "kernelspec": {
   "display_name": "Python 3 (ipykernel)",
   "language": "python",
   "name": "python3"
  },
  "language_info": {
   "codemirror_mode": {
    "name": "ipython",
    "version": 3
   },
   "file_extension": ".py",
   "mimetype": "text/x-python",
   "name": "python",
   "nbconvert_exporter": "python",
   "pygments_lexer": "ipython3",
   "version": "3.10.6"
  }
 },
 "nbformat": 4,
 "nbformat_minor": 5
}
